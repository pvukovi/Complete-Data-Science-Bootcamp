{
 "cells": [
  {
   "cell_type": "markdown",
   "id": "c98f8636-7009-43be-a37d-5bda7752d5b3",
   "metadata": {},
   "source": [
    "# Write the output of following code snippits"
   ]
  },
  {
   "cell_type": "code",
   "execution_count": null,
   "id": "bb510eeb-0a41-4fa1-b3ca-99fd01b4402d",
   "metadata": {},
   "outputs": [],
   "source": [
    "x = 10\n",
    "y = 5\n",
    "z = x & y\n",
    "print(z)\n"
   ]
  },
  {
   "cell_type": "code",
   "execution_count": null,
   "id": "cedd8d7b-f605-4578-a121-53d795d9c55e",
   "metadata": {},
   "outputs": [],
   "source": [
    "x = 10 \n",
    "y = 5 \n",
    "z = x | y \n",
    "print(z)\n"
   ]
  },
  {
   "cell_type": "code",
   "execution_count": null,
   "id": "562bf646-0f5d-4e9f-9b2d-dd7637119244",
   "metadata": {},
   "outputs": [],
   "source": [
    "x = 10 \n",
    "y = 5 \n",
    "z = x ^ y \n",
    "print(z)\n"
   ]
  },
  {
   "cell_type": "code",
   "execution_count": null,
   "id": "141c5f91-490f-4b92-a4d7-520538e32f07",
   "metadata": {},
   "outputs": [],
   "source": [
    "x = 10 \n",
    "y = ~x \n",
    "print(y)\n"
   ]
  },
  {
   "cell_type": "code",
   "execution_count": null,
   "id": "5992434e-5826-47a1-8cc3-a6cc4e674b97",
   "metadata": {},
   "outputs": [],
   "source": [
    "x = 10 \n",
    "y = x << 2 \n",
    "print(y)\n"
   ]
  },
  {
   "cell_type": "code",
   "execution_count": null,
   "id": "10b76a1b-ab44-4a5c-860d-de04a3a08cc9",
   "metadata": {},
   "outputs": [],
   "source": [
    "x = 10 \n",
    "y = x >> 2 \n",
    "print(y)\n"
   ]
  },
  {
   "cell_type": "code",
   "execution_count": null,
   "id": "9580a09c-b812-4e15-8464-470f585a4290",
   "metadata": {},
   "outputs": [],
   "source": [
    "x = 10 \n",
    "y = 5 \n",
    "z = x if x > y else y \n",
    "print(z)\n"
   ]
  },
  {
   "cell_type": "code",
   "execution_count": null,
   "id": "38663129-9154-4a1d-b089-347e299848e8",
   "metadata": {},
   "outputs": [],
   "source": [
    "x = \"Hello\"\n",
    "y = x[0]\n",
    "print(y)\n"
   ]
  },
  {
   "cell_type": "code",
   "execution_count": null,
   "id": "7ffa6e68-268a-4853-91ef-8e725177d5ca",
   "metadata": {},
   "outputs": [],
   "source": [
    "x = \"Hello\"\n",
    "y = x[1:3]\n",
    "print(y)\n"
   ]
  },
  {
   "cell_type": "code",
   "execution_count": null,
   "id": "893d612c-8c90-4777-a25d-484627509669",
   "metadata": {},
   "outputs": [],
   "source": [
    "x = 10\n",
    "y = 5\n",
    "z = x + y * 2\n",
    "print(z)\n"
   ]
  },
  {
   "cell_type": "code",
   "execution_count": null,
   "id": "9c3aa2b8-0bdb-4a7f-b243-b8e64ae3d076",
   "metadata": {},
   "outputs": [],
   "source": [
    "x = 10\n",
    "y = 5\n",
    "z = x > y or x < y and x == 10\n",
    "print(z)\n"
   ]
  },
  {
   "cell_type": "code",
   "execution_count": null,
   "id": "198b4bab-d627-40b9-a9f6-9c8922625026",
   "metadata": {},
   "outputs": [],
   "source": [
    "x = 10 \n",
    "y = 5\n",
    "z = not x < y\n",
    "print(z)\n"
   ]
  },
  {
   "cell_type": "code",
   "execution_count": null,
   "id": "0915e307-fa0d-441a-9d32-5d0f9cdb032c",
   "metadata": {},
   "outputs": [],
   "source": [
    "x = 10 \n",
    "y = 5\n",
    "z = (x * y) / (x - y)\n",
    "print(z)"
   ]
  }
 ],
 "metadata": {
  "kernelspec": {
   "display_name": "Python 3",
   "language": "python",
   "name": "python3"
  },
  "language_info": {
   "codemirror_mode": {
    "name": "ipython",
    "version": 3
   },
   "file_extension": ".py",
   "mimetype": "text/x-python",
   "name": "python",
   "nbconvert_exporter": "python",
   "pygments_lexer": "ipython3",
   "version": "3.11.1 (tags/v3.11.1:a7a450f, Dec  6 2022, 19:58:39) [MSC v.1934 64 bit (AMD64)]"
  },
  "vscode": {
   "interpreter": {
    "hash": "c9d29971b74bbed8614046e45b20ece85c981b7997c8eaf948c68935188d124e"
   }
  }
 },
 "nbformat": 4,
 "nbformat_minor": 5
}
